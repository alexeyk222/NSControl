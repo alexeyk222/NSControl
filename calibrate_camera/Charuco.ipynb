{
 "cells": [
  {
   "cell_type": "code",
   "execution_count": 1,
   "metadata": {},
   "outputs": [
    {
     "name": "stdout",
     "output_type": "stream",
     "text": [
      "Defaulting to user installation because normal site-packages is not writeable\n",
      "Requirement already satisfied: opencv-contrib-python in /home/user/.local/lib/python3.10/site-packages (4.9.0.80)\n",
      "Requirement already satisfied: numpy>=1.17.0 in /home/user/.local/lib/python3.10/site-packages (from opencv-contrib-python) (1.26.4)\n"
     ]
    }
   ],
   "source": [
    "!pip3 install opencv-contrib-python\n",
    "# Удалить opencv, оставить только opencv-contrib!\n"
   ]
  },
  {
   "cell_type": "code",
   "execution_count": 24,
   "metadata": {},
   "outputs": [],
   "source": [
    "import cv2\n",
    "import numpy as np\n",
    "import os\n",
    "import glob\n",
    "import pickle"
   ]
  },
  {
   "cell_type": "code",
   "execution_count": 25,
   "metadata": {},
   "outputs": [],
   "source": [
    "dir = r'test2'\n",
    "images = glob.glob(os.path.join(dir, \"*.jpg\"))\n",
    "arucoDict = cv2.aruco.DICT_4X4_250\n",
    "board_size = (5, 7)"
   ]
  },
  {
   "cell_type": "code",
   "execution_count": 26,
   "metadata": {},
   "outputs": [
    {
     "name": "stdout",
     "output_type": "stream",
     "text": [
      "4.9.0\n",
      "\n",
      "General configuration for OpenCV 4.9.0 =====================================\n",
      "  Version control:               4.9.0-dirty\n",
      "\n",
      "  Extra modules:\n",
      "    Location (extra):            /io/opencv_contrib/modules\n",
      "    Version control (extra):     4.9.0\n",
      "\n",
      "  Platform:\n",
      "    Timestamp:                   2023-12-31T11:19:02Z\n",
      "    Host:                        Linux 5.15.0-1053-azure x86_64\n",
      "    CMake:                       3.28.1\n",
      "    CMake generator:             Unix Makefiles\n",
      "    CMake build tool:            /bin/gmake\n",
      "    Configuration:               Release\n",
      "\n",
      "  CPU/HW features:\n",
      "    Baseline:                    SSE SSE2 SSE3\n",
      "      requested:                 SSE3\n",
      "    Dispatched code generation:  SSE4_1 SSE4_2 FP16 AVX AVX2 AVX512_SKX\n",
      "      requested:                 SSE4_1 SSE4_2 AVX FP16 AVX2 AVX512_SKX\n",
      "      SSE4_1 (16 files):         + SSSE3 SSE4_1\n",
      "      SSE4_2 (1 files):          + SSSE3 SSE4_1 POPCNT SSE4_2\n",
      "      FP16 (0 files):            + SSSE3 SSE4_1 POPCNT SSE4_2 FP16 AVX\n",
      "      AVX (8 files):             + SSSE3 SSE4_1 POPCNT SSE4_2 AVX\n",
      "      AVX2 (36 files):           + SSSE3 SSE4_1 POPCNT SSE4_2 FP16 FMA3 AVX AVX2\n",
      "      AVX512_SKX (5 files):      + SSSE3 SSE4_1 POPCNT SSE4_2 FP16 FMA3 AVX AVX2 AVX_512F AVX512_COMMON AVX512_SKX\n",
      "\n",
      "  C/C++:\n",
      "    Built as dynamic libs?:      NO\n",
      "    C++ standard:                11\n",
      "    C++ Compiler:                /opt/rh/devtoolset-10/root/usr/bin/c++  (ver 10.2.1)\n",
      "    C++ flags (Release):         -Wl,-strip-all   -fsigned-char -W -Wall -Wreturn-type -Wnon-virtual-dtor -Waddress -Wsequence-point -Wformat -Wformat-security -Wmissing-declarations -Wundef -Winit-self -Wpointer-arith -Wshadow -Wsign-promo -Wuninitialized -Wsuggest-override -Wno-delete-non-virtual-dtor -Wno-comment -Wimplicit-fallthrough=3 -Wno-strict-overflow -fdiagnostics-show-option -Wno-long-long -pthread -fomit-frame-pointer -ffunction-sections -fdata-sections  -msse -msse2 -msse3 -fvisibility=hidden -fvisibility-inlines-hidden -O3 -DNDEBUG  -DNDEBUG\n",
      "    C++ flags (Debug):           -Wl,-strip-all   -fsigned-char -W -Wall -Wreturn-type -Wnon-virtual-dtor -Waddress -Wsequence-point -Wformat -Wformat-security -Wmissing-declarations -Wundef -Winit-self -Wpointer-arith -Wshadow -Wsign-promo -Wuninitialized -Wsuggest-override -Wno-delete-non-virtual-dtor -Wno-comment -Wimplicit-fallthrough=3 -Wno-strict-overflow -fdiagnostics-show-option -Wno-long-long -pthread -fomit-frame-pointer -ffunction-sections -fdata-sections  -msse -msse2 -msse3 -fvisibility=hidden -fvisibility-inlines-hidden -g  -O0 -DDEBUG -D_DEBUG\n",
      "    C Compiler:                  /opt/rh/devtoolset-10/root/usr/bin/cc\n",
      "    C flags (Release):           -Wl,-strip-all   -fsigned-char -W -Wall -Wreturn-type -Waddress -Wsequence-point -Wformat -Wformat-security -Wmissing-declarations -Wmissing-prototypes -Wstrict-prototypes -Wundef -Winit-self -Wpointer-arith -Wshadow -Wuninitialized -Wno-comment -Wimplicit-fallthrough=3 -Wno-strict-overflow -fdiagnostics-show-option -Wno-long-long -pthread -fomit-frame-pointer -ffunction-sections -fdata-sections  -msse -msse2 -msse3 -fvisibility=hidden -O3 -DNDEBUG  -DNDEBUG\n",
      "    C flags (Debug):             -Wl,-strip-all   -fsigned-char -W -Wall -Wreturn-type -Waddress -Wsequence-point -Wformat -Wformat-security -Wmissing-declarations -Wmissing-prototypes -Wstrict-prototypes -Wundef -Winit-self -Wpointer-arith -Wshadow -Wuninitialized -Wno-comment -Wimplicit-fallthrough=3 -Wno-strict-overflow -fdiagnostics-show-option -Wno-long-long -pthread -fomit-frame-pointer -ffunction-sections -fdata-sections  -msse -msse2 -msse3 -fvisibility=hidden -g  -O0 -DDEBUG -D_DEBUG\n",
      "    Linker flags (Release):      -Wl,--exclude-libs,libippicv.a -Wl,--exclude-libs,libippiw.a -L/ffmpeg_build/lib  -Wl,--gc-sections -Wl,--as-needed -Wl,--no-undefined  \n",
      "    Linker flags (Debug):        -Wl,--exclude-libs,libippicv.a -Wl,--exclude-libs,libippiw.a -L/ffmpeg_build/lib  -Wl,--gc-sections -Wl,--as-needed -Wl,--no-undefined  \n",
      "    ccache:                      YES\n",
      "    Precompiled headers:         NO\n",
      "    Extra dependencies:          /lib64/libopenblas.so Qt5::Test Qt5::Concurrent /usr/local/lib/libpng.so /lib64/libz.so Qt5::Core Qt5::Gui Qt5::Widgets Iconv::Iconv dl m pthread rt\n",
      "    3rdparty dependencies:       libprotobuf ade ittnotify libjpeg-turbo libwebp libtiff libopenjp2 IlmImf ippiw ippicv\n",
      "\n",
      "  OpenCV modules:\n",
      "    To be built:                 aruco bgsegm bioinspired calib3d ccalib core cvv datasets dnn dnn_objdetect dnn_superres dpm face features2d flann fuzzy gapi hfs highgui img_hash imgcodecs imgproc intensity_transform line_descriptor mcc ml objdetect optflow phase_unwrapping photo plot python3 quality rapid reg rgbd saliency shape stereo stitching structured_light superres surface_matching text tracking video videoio videostab wechat_qrcode xfeatures2d ximgproc xobjdetect xphoto\n",
      "    Disabled:                    world\n",
      "    Disabled by dependency:      -\n",
      "    Unavailable:                 alphamat cannops cudaarithm cudabgsegm cudacodec cudafeatures2d cudafilters cudaimgproc cudalegacy cudaobjdetect cudaoptflow cudastereo cudawarping cudev freetype hdf java julia matlab ovis python2 sfm ts viz\n",
      "    Applications:                -\n",
      "    Documentation:               NO\n",
      "    Non-free algorithms:         NO\n",
      "\n",
      "  GUI:                           QT5\n",
      "    QT:                          YES (ver 5.15.0 )\n",
      "      QT OpenGL support:         NO\n",
      "    GTK+:                        NO\n",
      "    VTK support:                 NO\n",
      "\n",
      "  Media I/O: \n",
      "    ZLib:                        /lib64/libz.so (ver 1.2.7)\n",
      "    JPEG:                        libjpeg-turbo (ver 2.1.3-62)\n",
      "    WEBP:                        build (ver encoder: 0x020f)\n",
      "    PNG:                         /usr/local/lib/libpng.so (ver 1.6.40)\n",
      "    TIFF:                        build (ver 42 - 4.2.0)\n",
      "    JPEG 2000:                   build (ver 2.5.0)\n",
      "    OpenEXR:                     build (ver 2.3.0)\n",
      "    HDR:                         YES\n",
      "    SUNRASTER:                   YES\n",
      "    PXM:                         YES\n",
      "    PFM:                         YES\n",
      "\n",
      "  Video I/O:\n",
      "    DC1394:                      NO\n",
      "    FFMPEG:                      YES\n",
      "      avcodec:                   YES (59.37.100)\n",
      "      avformat:                  YES (59.27.100)\n",
      "      avutil:                    YES (57.28.100)\n",
      "      swscale:                   YES (6.7.100)\n",
      "      avresample:                NO\n",
      "    GStreamer:                   NO\n",
      "    v4l/v4l2:                    YES (linux/videodev2.h)\n",
      "\n",
      "  Parallel framework:            pthreads\n",
      "\n",
      "  Trace:                         YES (with Intel ITT)\n",
      "\n",
      "  Other third-party libraries:\n",
      "    Intel IPP:                   2021.10.0 [2021.10.0]\n",
      "           at:                   /io/_skbuild/linux-x86_64-3.7/cmake-build/3rdparty/ippicv/ippicv_lnx/icv\n",
      "    Intel IPP IW:                sources (2021.10.0)\n",
      "              at:                /io/_skbuild/linux-x86_64-3.7/cmake-build/3rdparty/ippicv/ippicv_lnx/iw\n",
      "    VA:                          NO\n",
      "    Lapack:                      YES (/lib64/libopenblas.so)\n",
      "    Eigen:                       NO\n",
      "    Custom HAL:                  NO\n",
      "    Protobuf:                    build (3.19.1)\n",
      "    Flatbuffers:                 builtin/3rdparty (23.5.9)\n",
      "\n",
      "  OpenCL:                        YES (no extra features)\n",
      "    Include path:                /io/opencv/3rdparty/include/opencl/1.2\n",
      "    Link libraries:              Dynamic load\n",
      "\n",
      "  Python 3:\n",
      "    Interpreter:                 /opt/python/cp37-cp37m/bin/python3.7 (ver 3.7.17)\n",
      "    Libraries:                   libpython3.7m.a (ver 3.7.17)\n",
      "    numpy:                       /home/ci/.local/lib/python3.7/site-packages/numpy/core/include (ver 1.17.0)\n",
      "    install path:                python/cv2/python-3\n",
      "\n",
      "  Python (for build):            /opt/python/cp37-cp37m/bin/python3.7\n",
      "\n",
      "  Java:                          \n",
      "    ant:                         NO\n",
      "    Java:                        NO\n",
      "    JNI:                         NO\n",
      "    Java wrappers:               NO\n",
      "    Java tests:                  NO\n",
      "\n",
      "  Install to:                    /io/_skbuild/linux-x86_64-3.7/cmake-install\n",
      "-----------------------------------------------------------------\n",
      "\n",
      "\n"
     ]
    }
   ],
   "source": [
    "print(cv2.__version__)\n",
    "print(cv2.getBuildInformation())"
   ]
  },
  {
   "cell_type": "markdown",
   "metadata": {},
   "source": [
    "Генерация CHARUCO:\n",
    "papper - размеры листа бумаги\n",
    "squareLength - размеры в см грайни квадрата\n",
    "Печатать в 1:1 масштабе. Dpi 96"
   ]
  },
  {
   "cell_type": "code",
   "execution_count": 27,
   "metadata": {},
   "outputs": [
    {
     "name": "stdout",
     "output_type": "stream",
     "text": [
      "BoardSize: [5, 7]\n",
      "Pixels: [828, 1187]\n"
     ]
    }
   ],
   "source": [
    "\n",
    "\n",
    "\n",
    "papper = [21.9, 31.4] # Размеры листа в см\n",
    "squareLength = 4 # Размеры квадрата в см\n",
    "dpi = 96\n",
    "\n",
    "boardSize = [int(papper[0] // squareLength),\\\n",
    "             int(papper[1] // squareLength)]\n",
    "\n",
    "print(f'BoardSize: {boardSize}')\n",
    "def create_board(boardSize, squareLength, arucoDict, dpi):\n",
    "    markerLength = squareLength  / 2 # Размеры маркера в 2 раза меньше\n",
    "    dictionary = cv2.aruco.getPredefinedDictionary(arucoDict)\n",
    "    board = cv2.aruco.CharucoBoard(boardSize, squareLength, markerLength, dictionary)\n",
    "    frameSize = [int(np.ceil(papper[0] * dpi / 2.54)),\\\n",
    "                 int(np.ceil(papper[1] * dpi / 2.54))] # Длина в пиксели 96dpi\n",
    "    print(f'Pixels: {frameSize}')\n",
    "    image = board.generateImage(frameSize , 1, 1)\n",
    "    cv2.imwrite(\"BoardImage.jpg\", image)\n",
    "    \n",
    "create_board(boardSize, squareLength, arucoDict, dpi)"
   ]
  },
  {
   "cell_type": "code",
   "execution_count": 28,
   "metadata": {},
   "outputs": [
    {
     "name": "stdout",
     "output_type": "stream",
     "text": [
      "Processing image test2/IMG_20240519_002830.jpg\n",
      "Processing image test2/IMG_20240519_002849.jpg\n",
      "Processing image test2/IMG_20240519_002846.jpg\n",
      "Processing image test2/IMG_20240519_002831.jpg\n",
      "Processing image test2/IMG_20240519_002836.jpg\n",
      "Processing image test2/IMG_20240519_002828.jpg\n",
      "Processing image test2/IMG_20240519_002848.jpg\n",
      "Processing image test2/IMG_20240519_002842.jpg\n",
      "Processing image test2/IMG_20240519_002832.jpg\n",
      "Processing image test2/IMG_20240519_002839.jpg\n",
      "Processing image test2/IMG_20240519_002845.jpg\n",
      "Processing image test2/IMG_20240519_002835.jpg\n",
      "Processing image test2/IMG_20240519_002833.jpg\n",
      "Processing image test2/IMG_20240519_002844.jpg\n",
      "Processing image test2/IMG_20240519_002841.jpg\n",
      "Processing image test2/IMG_20240519_002838.jpg\n",
      "Processing image test2/IMG_20240519_002829.jpg\n",
      "Processing image test2/IMG_20240519_002840.jpg\n",
      "Processing image test2/IMG_20240519_002843.jpg\n",
      "Processing image test2/IMG_20240519_002834.jpg\n",
      "Processing image test2/IMG_20240519_002837.jpg\n",
      "Processing image test2/IMG_20240519_002847.jpg\n"
     ]
    }
   ],
   "source": [
    "def detect_charuco_corners(frame, boardSize):\n",
    "    dictionary = cv2.aruco.getPredefinedDictionary(arucoDict)\n",
    "    board = cv2.aruco.CharucoBoard(boardSize, 0.04, 0.02, dictionary)\n",
    "    params =  cv2.aruco.DetectorParameters()\n",
    "    params.cornerRefinementMethod = cv2.aruco.CORNER_REFINE_NONE\n",
    "    image_copy = frame.copy()\n",
    "    charucodetector = cv2.aruco.CharucoDetector(board)\n",
    "    charuco_corners, charuco_ids, marker_corners, marker_ids = charucodetector.detectBoard(image_copy)\n",
    "    #print(board.getChessboardSize())\n",
    "    #if charuco_ids is not None and len(charuco_ids) > 0:\n",
    "        #cv2.aruco.drawDetectedCornersCharuco(image_copy, charuco_corners, charuco_ids, (255, 0, 0))\n",
    "        #cv2.aruco.drawDetectedMarkers(image_copy, marker_corners, marker_ids)\n",
    "    #calibrate_camera(charuco_corners, board, input_video)\n",
    "    return image_copy, charuco_corners, charuco_ids\n",
    "    \n",
    "    \n",
    "\n",
    "def read_chessboards(images, boardSize):\n",
    "    dictionary = cv2.aruco.getPredefinedDictionary(arucoDict)\n",
    "    parameters = cv2.aruco.DetectorParameters()\n",
    "    detector = cv2.aruco.ArucoDetector(dictionary, parameters)\n",
    "    \n",
    "    allCorners = []\n",
    "    allIds = []\n",
    "\n",
    "    for img in images:\n",
    "        print(\"Processing image {0}\".format(img))\n",
    "        frame = cv2.imread(img)\n",
    "        rgb = cv2.cvtColor(frame, cv2.COLOR_RGB2BGR)\n",
    "        _, charuco_corners, charuco_ids = detect_charuco_corners(rgb, boardSize)\n",
    "        if charuco_corners is not None:\n",
    "                allCorners.append(charuco_corners)\n",
    "                allIds.append(charuco_ids)\n",
    "\n",
    "    imsize = rgb.shape\n",
    "    return allCorners,allIds,imsize\n",
    "\n",
    "allCorners, allIds, imsize = read_chessboards(images, list(board_size))"
   ]
  },
  {
   "cell_type": "code",
   "execution_count": 29,
   "metadata": {},
   "outputs": [],
   "source": [
    "def calibrate_camera(allCorners, allIds, board, imsize):\n",
    "    cameraMatrixInit = np.array([[ 2000.,    0., imsize[0]/2.],\n",
    "                                 [    0., 2000., imsize[1]/2.],\n",
    "                                 [    0.,    0.,           1.]])\n",
    "\n",
    "    distCoeffsInit = np.zeros((4,1))\n",
    "    flags = (cv2.CALIB_USE_INTRINSIC_GUESS + cv2.CALIB_RATIONAL_MODEL)\n",
    "    \n",
    "    (ret, camera_matrix, distortion_coefficients0,\n",
    "     rotation_vectors, translation_vectors,\n",
    "     stdDeviationsIntrinsics, stdDeviationsExtrinsics,\n",
    "     perViewErrors) = cv2.aruco.calibrateCameraCharucoExtended(\n",
    "                      charucoCorners=allCorners,\n",
    "                      charucoIds=allIds,\n",
    "                      board=board,\n",
    "                      imageSize=imsize,\n",
    "                      cameraMatrix=cameraMatrixInit,\n",
    "                      distCoeffs=distCoeffsInit)\n",
    "\n",
    "    return ret, camera_matrix, distortion_coefficients0, rotation_vectors, translation_vectors\n",
    "\n",
    "dictionary = cv2.aruco.getPredefinedDictionary(arucoDict)\n",
    "board = cv2.aruco.CharucoBoard(board_size, 4.0, 2.0, dictionary)\n",
    "\n",
    "ret, mtx, dist, rvecs, tvecs = calibrate_camera(allCorners,allIds, board, imsize[1::-1])\n"
   ]
  },
  {
   "cell_type": "code",
   "execution_count": 30,
   "metadata": {},
   "outputs": [],
   "source": [
    "data = {'mtx': mtx, 'dist': dist, 'rvecs': rvecs, 'tvecs': tvecs}\n",
    "with open('data.pickle', 'wb') as f:\n",
    "    pickle.dump(data, f)"
   ]
  },
  {
   "cell_type": "code",
   "execution_count": 33,
   "metadata": {},
   "outputs": [
    {
     "data": {
      "text/plain": [
       "True"
      ]
     },
     "execution_count": 33,
     "metadata": {},
     "output_type": "execute_result"
    }
   ],
   "source": [
    "with open('data.pickle', 'rb') as f:\n",
    "    data = pickle.load(f)\n",
    "    \n",
    "frame = cv2.imread(r'test/IMG_20240519_001635.jpg')\n",
    "frame = cv2.undistort(frame, data['mtx'], data['dist'], None, data['mtx'])\n",
    "cv2.imwrite('test.jpg', frame)\n",
    "\n"
   ]
  },
  {
   "cell_type": "code",
   "execution_count": 37,
   "metadata": {},
   "outputs": [
    {
     "data": {
      "text/plain": [
       "(array([[-0.45081635],\n",
       "        [ 0.26701475],\n",
       "        [-2.69857934]]),\n",
       " array([[0.02803626],\n",
       "        [0.0323735 ],\n",
       "        [0.57622951]]))"
      ]
     },
     "execution_count": 37,
     "metadata": {},
     "output_type": "execute_result"
    }
   ],
   "source": [
    "def detectCharucoBoardWithCalibrationPose(frame, boardSize, mtx, dist, rvec, tvec):\n",
    "    dictionary = cv2.aruco.getPredefinedDictionary(arucoDict)\n",
    "    board = cv2.aruco.CharucoBoard(boardSize, 0.04, 0.02, dictionary)\n",
    "    params =  cv2.aruco.DetectorParameters()\n",
    "    params.cornerRefinementMethod = cv2.aruco.CORNER_REFINE_NONE\n",
    "    image_copy = frame.copy()\n",
    "    charucodetector = cv2.aruco.CharucoDetector(board)\n",
    "    charuco_corners, charuco_ids, marker_corners, marker_ids = charucodetector.detectBoard(image_copy)\n",
    "    valid, rvec, tvec = cv2.aruco.estimatePoseCharucoBoard(charuco_corners, charuco_ids, board, mtx, dist, None, None)\n",
    "    if valid: cv2.drawFrameAxes(image_copy, mtx, dist, rvec, tvec, length=0.1, thickness=15)\n",
    "    cv2.imwrite('test.jpg', image_copy)\n",
    "    return rvec, tvec\n",
    "\n",
    "frame = cv2.imread(r'test2/IMG_20240519_002830.jpg')\n",
    "detectCharucoBoardWithCalibrationPose(frame, board_size, data['mtx'], data['dist'], data['rvecs'], data['tvecs'])\n",
    "    "
   ]
  }
 ],
 "metadata": {
  "kernelspec": {
   "display_name": "Python 3",
   "language": "python",
   "name": "python3"
  },
  "language_info": {
   "codemirror_mode": {
    "name": "ipython",
    "version": 3
   },
   "file_extension": ".py",
   "mimetype": "text/x-python",
   "name": "python",
   "nbconvert_exporter": "python",
   "pygments_lexer": "ipython3",
   "version": "3.10.12"
  }
 },
 "nbformat": 4,
 "nbformat_minor": 2
}
